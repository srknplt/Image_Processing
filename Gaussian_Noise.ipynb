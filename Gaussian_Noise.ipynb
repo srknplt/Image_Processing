{
  "nbformat": 4,
  "nbformat_minor": 0,
  "metadata": {
    "colab": {
      "provenance": [],
      "authorship_tag": "ABX9TyPxtpvz+OFuKFr6H+bhT8IB",
      "include_colab_link": true
    },
    "kernelspec": {
      "name": "python3",
      "display_name": "Python 3"
    },
    "language_info": {
      "name": "python"
    }
  },
  "cells": [
    {
      "cell_type": "markdown",
      "metadata": {
        "id": "view-in-github",
        "colab_type": "text"
      },
      "source": [
        "<a href=\"https://colab.research.google.com/github/srknplt/Image_Processing/blob/main/Gaussian_Noise.ipynb\" target=\"_parent\"><img src=\"https://colab.research.google.com/assets/colab-badge.svg\" alt=\"Open In Colab\"/></a>"
      ]
    },
    {
      "cell_type": "code",
      "execution_count": 1,
      "metadata": {
        "id": "DXx-5hlGD2FW"
      },
      "outputs": [],
      "source": [
        "import cv2\n",
        "import numpy as np"
      ]
    },
    {
      "cell_type": "code",
      "source": [
        "img = cv2.imread(\"input.jpg\")\n",
        "cv2.imshow(\"Original\",img)"
      ],
      "metadata": {
        "id": "1NzIZyfhEPB6"
      },
      "execution_count": null,
      "outputs": []
    },
    {
      "cell_type": "code",
      "source": [
        "def gaussian_noise(image):\n",
        "  row,col,ch = image.shape\n",
        "  mean = 0\n",
        "  var = 0.05\n",
        "  sigma = var**0.5\n",
        "  gauss = np.random.normal(mean,sigma,(row,col,ch))\n",
        "  gauss  gauss.reshape(row,col,ch)\n",
        "  noisy = image + gauss\n",
        "\n",
        "  return noisy"
      ],
      "metadata": {
        "id": "aoYWOsesEWEj"
      },
      "execution_count": null,
      "outputs": []
    },
    {
      "cell_type": "code",
      "source": [
        "img = cv2. imread(\"input.jpg\")\n",
        "img = img/255\n",
        "noise_img = gaussian_noise(img)\n",
        "cv2.imshow(\"Gaussian Noise\", noise_img)\n",
        "cv2.waitKey(0)"
      ],
      "metadata": {
        "id": "DULaFuh0EW0L"
      },
      "execution_count": null,
      "outputs": []
    }
  ]
}