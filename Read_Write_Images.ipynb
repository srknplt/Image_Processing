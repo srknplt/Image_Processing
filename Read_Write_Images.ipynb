{
  "nbformat": 4,
  "nbformat_minor": 0,
  "metadata": {
    "colab": {
      "provenance": []
    },
    "kernelspec": {
      "name": "python3",
      "display_name": "Python 3"
    },
    "language_info": {
      "name": "python"
    }
  },
  "cells": [
    {
      "cell_type": "code",
      "execution_count": 1,
      "metadata": {
        "id": "XExCrnCwkAXa"
      },
      "outputs": [],
      "source": [
        "import cv2\n",
        "import numpy as np"
      ]
    },
    {
      "cell_type": "code",
      "source": [
        "resim1 = cv2.imread(\"brain.jpg\")"
      ],
      "metadata": {
        "id": "STgk5tW9mFGK"
      },
      "execution_count": 2,
      "outputs": []
    },
    {
      "cell_type": "code",
      "source": [
        "cv2.imshow(\"Brain\", resim1)"
      ],
      "metadata": {
        "id": "ByGUUfcMmQs1"
      },
      "execution_count": null,
      "outputs": []
    },
    {
      "cell_type": "code",
      "source": [
        "print(resim1.size)"
      ],
      "metadata": {
        "id": "3uXaopn1qQ8-"
      },
      "execution_count": 5,
      "outputs": []
    },
    {
      "cell_type": "code",
      "source": [
        "print(resim1.dtype)"
      ],
      "metadata": {
        "id": "VZeIcHEZqZNT"
      },
      "execution_count": null,
      "outputs": []
    },
    {
      "cell_type": "code",
      "source": [
        "print(resim1.shape)"
      ],
      "metadata": {
        "id": "rJvCidHcqjls"
      },
      "execution_count": null,
      "outputs": []
    },
    {
      "cell_type": "code",
      "source": [
        "cv2.waitKey(0)\n",
        "cv2.destroyAllWindows()"
      ],
      "metadata": {
        "id": "NY2IrwjcqnlM"
      },
      "execution_count": null,
      "outputs": []
    }
  ]
}