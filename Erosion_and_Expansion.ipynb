{
  "nbformat": 4,
  "nbformat_minor": 0,
  "metadata": {
    "colab": {
      "provenance": [],
      "authorship_tag": "ABX9TyP9llW6wZ1AP0Sw+RWyNgbJ",
      "include_colab_link": true
    },
    "kernelspec": {
      "name": "python3",
      "display_name": "Python 3"
    },
    "language_info": {
      "name": "python"
    }
  },
  "cells": [
    {
      "cell_type": "markdown",
      "metadata": {
        "id": "view-in-github",
        "colab_type": "text"
      },
      "source": [
        "<a href=\"https://colab.research.google.com/github/srknplt/Image_Processing/blob/main/Erosion_and_Expansion.ipynb\" target=\"_parent\"><img src=\"https://colab.research.google.com/assets/colab-badge.svg\" alt=\"Open In Colab\"/></a>"
      ]
    },
    {
      "cell_type": "code",
      "execution_count": 1,
      "metadata": {
        "id": "jGYIfv1DyBWu"
      },
      "outputs": [],
      "source": [
        "import cv2\n",
        "import numpy as np"
      ]
    },
    {
      "cell_type": "code",
      "source": [
        "img = cv2.imread('input.png', 0)"
      ],
      "metadata": {
        "id": "hvVgj8RJ0kBG"
      },
      "execution_count": null,
      "outputs": []
    },
    {
      "cell_type": "code",
      "source": [
        "kernel =np.ones((5,5), np.uint8)"
      ],
      "metadata": {
        "id": "aik0UNZj0r-X"
      },
      "execution_count": null,
      "outputs": []
    },
    {
      "cell_type": "code",
      "source": [
        "img_erosion = cv2.erode(img, kernel, iterations=1)\n",
        "img_dilation = cv2.dilate(img, kernel, iterations=1)"
      ],
      "metadata": {
        "id": "S32J-D4M0uaH"
      },
      "execution_count": null,
      "outputs": []
    },
    {
      "cell_type": "code",
      "source": [
        "cv2.imshow('Input', img)"
      ],
      "metadata": {
        "id": "SIFCVBhC0zw4"
      },
      "execution_count": null,
      "outputs": []
    },
    {
      "cell_type": "code",
      "source": [
        "cv2.imshow('Erosion', img_erosion)\n",
        "cv2.imshow('Dilation', img_dilation)"
      ],
      "metadata": {
        "id": "8fF9zLLR00bP"
      },
      "execution_count": null,
      "outputs": []
    },
    {
      "cell_type": "code",
      "source": [
        "cv2.waitKey(0)"
      ],
      "metadata": {
        "id": "H-3x9hlq019x"
      },
      "execution_count": null,
      "outputs": []
    }
  ]
}