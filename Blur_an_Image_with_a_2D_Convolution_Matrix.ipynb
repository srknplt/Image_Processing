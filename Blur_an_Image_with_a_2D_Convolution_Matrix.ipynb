{
  "nbformat": 4,
  "nbformat_minor": 0,
  "metadata": {
    "colab": {
      "provenance": [],
      "authorship_tag": "ABX9TyM751nAFBBStzB78gURLMJ5",
      "include_colab_link": true
    },
    "kernelspec": {
      "name": "python3",
      "display_name": "Python 3"
    },
    "language_info": {
      "name": "python"
    }
  },
  "cells": [
    {
      "cell_type": "markdown",
      "metadata": {
        "id": "view-in-github",
        "colab_type": "text"
      },
      "source": [
        "<a href=\"https://colab.research.google.com/github/srknplt/Image_Processing/blob/main/Blur_an_Image_with_a_2D_Convolution_Matrix.ipynb\" target=\"_parent\"><img src=\"https://colab.research.google.com/assets/colab-badge.svg\" alt=\"Open In Colab\"/></a>"
      ]
    },
    {
      "cell_type": "code",
      "execution_count": 1,
      "metadata": {
        "id": "J094Q3jBAK7u"
      },
      "outputs": [],
      "source": [
        "import cv2\n",
        "import numpy as np"
      ]
    },
    {
      "cell_type": "code",
      "source": [
        "image = cv2.imread('image.png')"
      ],
      "metadata": {
        "id": "ofbYShOtAzKM"
      },
      "execution_count": null,
      "outputs": []
    },
    {
      "cell_type": "code",
      "source": [
        "kernel1 = np.ones((5,5), np.float32)/30"
      ],
      "metadata": {
        "id": "oumv4a4sBJIp"
      },
      "execution_count": null,
      "outputs": []
    },
    {
      "cell_type": "code",
      "source": [
        "img = cv2.filter2D(src=image, ddepth=-1, kernel=kernel1)"
      ],
      "metadata": {
        "id": "QQQgBa1vBSTX"
      },
      "execution_count": null,
      "outputs": []
    },
    {
      "cell_type": "code",
      "source": [
        "cv2.imshow('Original', image)\n",
        "cv2.imshow('Kernel Blur', img)"
      ],
      "metadata": {
        "id": "2MUzEfgLBe-v"
      },
      "execution_count": null,
      "outputs": []
    },
    {
      "cell_type": "code",
      "source": [
        "cv2.waitKey()\n",
        "cv2.destroyAllWindows()"
      ],
      "metadata": {
        "id": "TGLoMh2wBs5P"
      },
      "execution_count": null,
      "outputs": []
    }
  ]
}