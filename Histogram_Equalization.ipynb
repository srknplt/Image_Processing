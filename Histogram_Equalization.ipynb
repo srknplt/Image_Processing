{
  "nbformat": 4,
  "nbformat_minor": 0,
  "metadata": {
    "colab": {
      "provenance": [],
      "authorship_tag": "ABX9TyObfpYV1lrzTX3D+8cM6j/G",
      "include_colab_link": true
    },
    "kernelspec": {
      "name": "python3",
      "display_name": "Python 3"
    },
    "language_info": {
      "name": "python"
    }
  },
  "cells": [
    {
      "cell_type": "markdown",
      "metadata": {
        "id": "view-in-github",
        "colab_type": "text"
      },
      "source": [
        "<a href=\"https://colab.research.google.com/github/srknplt/Image_Processing/blob/main/Histogram_Equalization.ipynb\" target=\"_parent\"><img src=\"https://colab.research.google.com/assets/colab-badge.svg\" alt=\"Open In Colab\"/></a>"
      ]
    },
    {
      "cell_type": "code",
      "execution_count": 2,
      "metadata": {
        "id": "um9yiwFM1Zfe"
      },
      "outputs": [],
      "source": [
        "import numpy as np\n",
        "import cv2 as cv\n",
        "from matplotlib import pyplot as plt"
      ]
    },
    {
      "cell_type": "code",
      "source": [
        "img = cv.imread('wiki.jpg',0)"
      ],
      "metadata": {
        "id": "ttVZHKqw1nsw"
      },
      "execution_count": null,
      "outputs": []
    },
    {
      "cell_type": "code",
      "source": [
        "hist,bins = np.histogram(img.flatten(),256,[0,256])"
      ],
      "metadata": {
        "id": "LVr6XVmh1wrf"
      },
      "execution_count": null,
      "outputs": []
    },
    {
      "cell_type": "code",
      "source": [
        "cdf = hist.cumsum()\n",
        "cdf_normalized = cdf * float(hist.max()) / cdf.max()"
      ],
      "metadata": {
        "id": "3H1Kakc81y93"
      },
      "execution_count": null,
      "outputs": []
    },
    {
      "cell_type": "code",
      "source": [
        "plt.plot(cdf_normalized, color = 'b')\n",
        "plt.hist(img.flatten(),256,[0,256], color = 'r')\n",
        "plt.xlim([0,256])\n",
        "plt.legend(('cdf','histogram'), loc = 'upper left')\n",
        "plt.show()"
      ],
      "metadata": {
        "id": "Wb39pmzT11Lg"
      },
      "execution_count": null,
      "outputs": []
    }
  ]
}