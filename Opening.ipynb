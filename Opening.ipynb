{
  "nbformat": 4,
  "nbformat_minor": 0,
  "metadata": {
    "colab": {
      "provenance": [],
      "authorship_tag": "ABX9TyMZOVT8nSdyzRRxEqpAr81r",
      "include_colab_link": true
    },
    "kernelspec": {
      "name": "python3",
      "display_name": "Python 3"
    },
    "language_info": {
      "name": "python"
    }
  },
  "cells": [
    {
      "cell_type": "markdown",
      "metadata": {
        "id": "view-in-github",
        "colab_type": "text"
      },
      "source": [
        "<a href=\"https://colab.research.google.com/github/srknplt/Image_Processing/blob/main/Opening.ipynb\" target=\"_parent\"><img src=\"https://colab.research.google.com/assets/colab-badge.svg\" alt=\"Open In Colab\"/></a>"
      ]
    },
    {
      "cell_type": "code",
      "execution_count": 1,
      "metadata": {
        "id": "SCCd1moV1Go8"
      },
      "outputs": [],
      "source": [
        "import cv2\n",
        "import numpy as np"
      ]
    },
    {
      "cell_type": "code",
      "source": [
        "img = cv2.imread(\"isim.png\", 0)\n",
        "cv2.imshow(\"Original\", img)\n",
        "cv2.waitKey(0)"
      ],
      "metadata": {
        "id": "IAQW9tav1HYE"
      },
      "execution_count": null,
      "outputs": []
    },
    {
      "cell_type": "code",
      "source": [
        "kernel = np.ones((5,5),dtype=np.uint8)"
      ],
      "metadata": {
        "id": "oBfghnQy1Kyx"
      },
      "execution_count": null,
      "outputs": []
    },
    {
      "cell_type": "code",
      "source": [
        "whiteNoise = np.random.randint(0,2,size=img.shape[:2])\n",
        "whiteNoise = whiteNoisse*255\n",
        "noise_img = whiteNoise + img"
      ],
      "metadata": {
        "id": "WfozgCTh1NF_"
      },
      "execution_count": null,
      "outputs": []
    },
    {
      "cell_type": "code",
      "source": [
        "opening =cv2.morphologyEx(noise_img.astype(np.float32),cv2.MORPH_OPEN,kernel )\n",
        "cv2.imshow(\"Opening\", opening)\n",
        "cv2.waitKey(0)"
      ],
      "metadata": {
        "id": "XbeST1UO1PoX"
      },
      "execution_count": null,
      "outputs": []
    }
  ]
}