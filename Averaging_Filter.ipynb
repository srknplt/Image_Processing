{
  "nbformat": 4,
  "nbformat_minor": 0,
  "metadata": {
    "colab": {
      "provenance": [],
      "authorship_tag": "ABX9TyNdJs11W5uh82GsXkBpvcoy",
      "include_colab_link": true
    },
    "kernelspec": {
      "name": "python3",
      "display_name": "Python 3"
    },
    "language_info": {
      "name": "python"
    }
  },
  "cells": [
    {
      "cell_type": "markdown",
      "metadata": {
        "id": "view-in-github",
        "colab_type": "text"
      },
      "source": [
        "<a href=\"https://colab.research.google.com/github/srknplt/Image_Processing/blob/main/Averaging_Filter.ipynb\" target=\"_parent\"><img src=\"https://colab.research.google.com/assets/colab-badge.svg\" alt=\"Open In Colab\"/></a>"
      ]
    },
    {
      "cell_type": "code",
      "execution_count": 1,
      "metadata": {
        "id": "9u8i5DCSCwid"
      },
      "outputs": [],
      "source": [
        "import cv2\n",
        "import numpy as np"
      ]
    },
    {
      "cell_type": "code",
      "source": [
        "path = r'salad.jpg'"
      ],
      "metadata": {
        "id": "pi8OWZZwC3Mb"
      },
      "execution_count": null,
      "outputs": []
    },
    {
      "cell_type": "code",
      "source": [
        "img = cv2.imread(path)"
      ],
      "metadata": {
        "id": "Dxbm-tVVC5wo"
      },
      "execution_count": null,
      "outputs": []
    },
    {
      "cell_type": "code",
      "source": [
        "im1 = cv2.blur(img(5,5))\n",
        "im2 = cv2.boxFilter(img, -1, (2,2), normalize=True)"
      ],
      "metadata": {
        "id": "krjhGLXLC6Cd"
      },
      "execution_count": null,
      "outputs": []
    },
    {
      "cell_type": "code",
      "source": [
        "cv2.imshow('image', np.hstack((im1, im2)))\n",
        "cv2.waitKey(0);\n",
        "cv2.destroyAllWindows();\n",
        "cv2.waitKey(1)"
      ],
      "metadata": {
        "id": "2x-ed-q3C6Q8"
      },
      "execution_count": null,
      "outputs": []
    }
  ]
}